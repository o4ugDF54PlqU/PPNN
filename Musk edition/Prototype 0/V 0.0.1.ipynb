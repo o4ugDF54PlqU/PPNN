{
 "cells": [
  {
   "cell_type": "code",
   "execution_count": 1,
   "metadata": {},
   "outputs": [
    {
     "name": "stderr",
     "output_type": "stream",
     "text": [
      "Using TensorFlow backend.\n"
     ]
    }
   ],
   "source": [
    "from keras.models import Sequential\n",
    "from keras.layers import Dense, LSTM"
   ]
  },
  {
   "cell_type": "code",
   "execution_count": 2,
   "metadata": {},
   "outputs": [
    {
     "name": "stdout",
     "output_type": "stream",
     "text": [
      "Sing a song of sixpence,\n",
      "A pocket full of rye.\n",
      "Four and twenty blackbirds,\n",
      "Baked in a pie.\n",
      "\n",
      "When the pie was opened\n",
      "The birds began to sing;\n",
      "Wasn't that a dainty dish,\n",
      "To set before the king.\n",
      "\n",
      "The king was in his counting house,\n",
      "Counting out his money;\n",
      "The queen was in the parlour,\n",
      "Eating bread and honey.\n",
      "\n",
      "The maid was in the garden,\n",
      "Hanging out the clothes,\n",
      "When down came a blackbird\n",
      "And pecked off her nose.\n"
     ]
    },
    {
     "data": {
      "text/plain": [
       "['Sing',\n",
       " 'a',\n",
       " 'song',\n",
       " 'of',\n",
       " 'sixpence,',\n",
       " 'A',\n",
       " 'pocket',\n",
       " 'full',\n",
       " 'of',\n",
       " 'rye.',\n",
       " 'Four',\n",
       " 'and',\n",
       " 'twenty',\n",
       " 'blackbirds,',\n",
       " 'Baked',\n",
       " 'in',\n",
       " 'a',\n",
       " 'pie.',\n",
       " 'When',\n",
       " 'the',\n",
       " 'pie',\n",
       " 'was',\n",
       " 'opened',\n",
       " 'The',\n",
       " 'birds',\n",
       " 'began',\n",
       " 'to',\n",
       " 'sing;',\n",
       " \"Wasn't\",\n",
       " 'that',\n",
       " 'a',\n",
       " 'dainty',\n",
       " 'dish,',\n",
       " 'To',\n",
       " 'set',\n",
       " 'before',\n",
       " 'the',\n",
       " 'king.',\n",
       " 'The',\n",
       " 'king',\n",
       " 'was',\n",
       " 'in',\n",
       " 'his',\n",
       " 'counting',\n",
       " 'house,',\n",
       " 'Counting',\n",
       " 'out',\n",
       " 'his',\n",
       " 'money;',\n",
       " 'The',\n",
       " 'queen',\n",
       " 'was',\n",
       " 'in',\n",
       " 'the',\n",
       " 'parlour,',\n",
       " 'Eating',\n",
       " 'bread',\n",
       " 'and',\n",
       " 'honey.',\n",
       " 'The',\n",
       " 'maid',\n",
       " 'was',\n",
       " 'in',\n",
       " 'the',\n",
       " 'garden,',\n",
       " 'Hanging',\n",
       " 'out',\n",
       " 'the',\n",
       " 'clothes,',\n",
       " 'When',\n",
       " 'down',\n",
       " 'came',\n",
       " 'a',\n",
       " 'blackbird',\n",
       " 'And',\n",
       " 'pecked',\n",
       " 'off',\n",
       " 'her',\n",
       " 'nose.']"
      ]
     },
     "execution_count": 2,
     "metadata": {},
     "output_type": "execute_result"
    }
   ],
   "source": [
    "# load doc into memory\n",
    "def load_doc(filename):\n",
    "    # open the file as read only\n",
    "    file = open(filename, 'r')\n",
    "    # read all text\n",
    "    text = file.read()\n",
    "    # close the file\n",
    "    file.close()\n",
    "    return text\n",
    "\n",
    "# load text\n",
    "raw_text = load_doc('rhyme.txt')\n",
    "print(raw_text)\n",
    "\n",
    "\n",
    "# clean\n",
    "tokens = raw_text.split()\n",
    "tokens"
   ]
  },
  {
   "cell_type": "code",
   "execution_count": 5,
   "metadata": {},
   "outputs": [
    {
     "name": "stdout",
     "output_type": "stream",
     "text": [
      "sing a song of sixpence, a pocket full of rye. four and twenty blackbirds, baked in a pie. when the pie was opened the birds began to sing; wasn't that a dainty dish, to set before the king. the king was in his counting house, counting out his money; the queen was in the parlour, eating bread and honey. the maid was in the garden, hanging out the clothes, when down came a blackbird and pecked off her nose.\n"
     ]
    }
   ],
   "source": [
    "raw_text = ' '.join(tokens)\n",
    "raw_text = raw_text.lower()\n",
    "print(raw_text)"
   ]
  },
  {
   "cell_type": "code",
   "execution_count": null,
   "metadata": {},
   "outputs": [],
   "source": [
    "# organize into sequences of characters\n",
    "length = 10\n",
    "sequences = list()\n",
    "for i in range(length, len(raw_text)):\n",
    "    # select sequence of tokens\n",
    "    seq = raw_text[i-length:i+1]\n",
    "    # store\n",
    "    sequences.append(seq)\n",
    "print('Total Sequences: %d' % len(sequences))"
   ]
  },
  {
   "cell_type": "code",
   "execution_count": null,
   "metadata": {},
   "outputs": [],
   "source": []
  }
 ],
 "metadata": {
  "kernelspec": {
   "display_name": "Python 3",
   "language": "python",
   "name": "python3"
  },
  "language_info": {
   "codemirror_mode": {
    "name": "ipython",
    "version": 3
   },
   "file_extension": ".py",
   "mimetype": "text/x-python",
   "name": "python",
   "nbconvert_exporter": "python",
   "pygments_lexer": "ipython3",
   "version": "3.6.8"
  }
 },
 "nbformat": 4,
 "nbformat_minor": 2
}
